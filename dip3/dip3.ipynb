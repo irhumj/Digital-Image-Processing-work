{
 "cells": [
  {
   "cell_type": "code",
   "execution_count": 1,
   "id": "6b1a8510-1a58-42e2-b64e-a5c59aaddf7b",
   "metadata": {},
   "outputs": [],
   "source": [
    "import numpy as np\n",
    "import cv2 as cv\n",
    " \n",
    "cap = cv.VideoCapture(0)\n",
    "if not cap.isOpened():\n",
    "    print(\"Cannot open camera\")\n",
    "    exit()\n",
    "while True:\n",
    "    # Capture frame-by-frame\n",
    "    ret, frame = cap.read()\n",
    " \n",
    "    # if frame is read correctly ret is True\n",
    "    if not ret:\n",
    "        print(\"Can't receive frame (stream end?). Exiting ...\")\n",
    "        break\n",
    "    # Our operations on the frame come here\n",
    "    gray = cv.cvtColor(frame, cv.COLOR_BGR2GRAY)\n",
    "    # Display the resulting frame\n",
    "    cv.imshow('frame', gray)\n",
    "    if cv.waitKey(1) == ord('q'):\n",
    "        break\n",
    " \n",
    "# When everything done, release the capture\n",
    "cap.release()\n",
    "cv.destroyAllWindows()"
   ]
  },
  {
   "cell_type": "code",
   "execution_count": 5,
   "id": "9fb902ec-f627-4018-86a8-b5d7f38a81ad",
   "metadata": {},
   "outputs": [],
   "source": [
    "\n",
    "import cv2\n",
    "import numpy as np\n",
    "\n",
    "image = cv2.imread(r'C:\\Users\\DELL\\Videos\\irhum.jpg')\n",
    "\n",
    "gray_image = cv2.cvtColor(image, cv2.COLOR_BGR2GRAY)\n",
    "\n",
    "\n",
    "_, binarized_image = cv2.threshold(gray_image, 127, 255, cv2.THRESH_BINARY)\n",
    "\n",
    "\n",
    "cv2.imshow('Binarized Image', binarized_image)\n",
    "\n",
    "cv2.waitKey(0)\n",
    "cv2.destroyAllWindows()\n"
   ]
  },
  {
   "cell_type": "code",
   "execution_count": null,
   "id": "5fdd84ba-4068-4514-820e-70bd47f490f1",
   "metadata": {},
   "outputs": [
    {
     "name": "stdout",
     "output_type": "stream",
     "text": [
      "Image Size: 1920x1920, Channels: 3\n",
      "This is a three-channel image.\n"
     ]
    }
   ],
   "source": [
    "import cv2\n",
    "\n",
    "\n",
    "image = cv2.imread(r'C:\\Users\\DELL\\Videos\\irhum.jpg')\n",
    "\n",
    "\n",
    "height, width, channels = image.shape if len(image.shape) == 3 else (image.shape[0], image.shape[1], 1)\n",
    "\n",
    "print(f\"Image Size: {width}x{height}, Channels: {channels}\")\n",
    "\n",
    "\n",
    "if channels == 3:\n",
    "    print(\"This is a three-channel image.\")\n",
    "    \n",
    "   \n",
    "    gray_image = cv2.cvtColor(image, cv2.COLOR_BGR2GRAY)\n",
    "    \n",
    "    \n",
    "    _, binarized_image = cv2.threshold(gray_image, 127, 255, cv2.THRESH_BINARY)\n",
    "    \n",
    "\n",
    "    cv2.imshow('Original Image', image)\n",
    "    cv2.imshow('Grayscale Image', gray_image)\n",
    "    cv2.imshow('Binarized Image', binarized_image)\n",
    "\n",
    "elif channels == 1:\n",
    "    print(\"This is a one-channel image.\")\n",
    "    \n",
    "\n",
    "    cv2.imshow('Original Image', image)\n",
    "\n",
    "\n",
    "cv2.waitKey(0)\n",
    "cv2.destroyAllWindows()\n"
   ]
  },
  {
   "cell_type": "code",
   "execution_count": null,
   "id": "71996ae2-56fa-49f9-89ac-142610e4938b",
   "metadata": {},
   "outputs": [],
   "source": [
    "import cv2\n",
    "import os\n",
    "import time\n",
    "\n",
    "image = cv2.imread(r'C:\\Users\\DELL\\Videos\\irhum.jpg')\n",
    "\n",
    "height, width, channels = image.shape\n",
    "\n",
    "\n",
    "print(f\"Dimensions: {width} x {height}, Channels: {channels}\")\n",
    "\n",
    "\n",
    "file_size = os.path.getsize(image_path)\n",
    "\n",
    "date_modified = time.ctime(os.path.getmtime(image_path))\n",
    "\n",
    "coding_method = os.path.splitext(image_path)[1][1:].upper()  \n",
    "\n",
    "\n",
    "bit_depth = channels * 8 \n",
    "\n",
    "# Display image properties\n",
    "print(f\"File Size: {file_size} bytes\")\n",
    "print(f\"Date Modified: {date_modified}\")\n",
    "print(f\"Coding Method: {coding_method}\")\n",
    "print(f\"Bit Depth: {bit_depth} bits\")\n",
    "print(f\"Height: {height} pixels\")\n",
    "print(f\"Width: {width} pixels\")\n",
    "cv2.imshow('Loaded Image', image)\n",
    "\n",
    "cv2.waitKey(0)\n",
    "cv2.destroyAllWindows()\n"
   ]
  },
  {
   "cell_type": "code",
   "execution_count": null,
   "id": "19088b0e-c528-446b-9969-306789b5c940",
   "metadata": {},
   "outputs": [],
   "source": []
  }
 ],
 "metadata": {
  "kernelspec": {
   "display_name": "Python 3 (ipykernel)",
   "language": "python",
   "name": "python3"
  },
  "language_info": {
   "codemirror_mode": {
    "name": "ipython",
    "version": 3
   },
   "file_extension": ".py",
   "mimetype": "text/x-python",
   "name": "python",
   "nbconvert_exporter": "python",
   "pygments_lexer": "ipython3",
   "version": "3.12.4"
  }
 },
 "nbformat": 4,
 "nbformat_minor": 5
}
