{
 "cells": [
  {
   "cell_type": "markdown",
   "metadata": {},
   "source": [
    "##QUESTION 1"
   ]
  },
  {
   "cell_type": "code",
   "execution_count": 15,
   "metadata": {},
   "outputs": [
    {
     "data": {
      "text/plain": [
       "<function destroyAllWindows>"
      ]
     },
     "execution_count": 15,
     "metadata": {},
     "output_type": "execute_result"
    }
   ],
   "source": [
    "import cv2\n",
    "import numpy as np\n",
    "\n",
    "gray_scale = cv2.imread(r'C:\\Users\\DELL\\Music\\coin.png', cv2.IMREAD_GRAYSCALE)  \n",
    "threshold_value = 128  \n",
    "_, binary_image = cv2.threshold(gray_scale, threshold_value, 255, cv2.THRESH_BINARY)\n",
    "kernel = np.ones((5,5),np.uint8)\n",
    "closing = cv2.morphologyEx(binary_image, cv2.MORPH_CLOSE, kernel)\n",
    "erosion = cv2.erode(closing, kernel, iterations = 1)\n",
    "cv2.imshow('res',erosion)\n",
    "cv2.waitKey(0)\n",
    "cv2.destroyAllWindows"
   ]
  },
  {
   "cell_type": "code",
   "execution_count": 16,
   "metadata": {},
   "outputs": [
    {
     "data": {
      "text/plain": [
       "<function destroyAllWindows>"
      ]
     },
     "execution_count": 16,
     "metadata": {},
     "output_type": "execute_result"
    }
   ],
   "source": [
    "difference=cv2.subtract(binary_image,erosion)\n",
    "cv2.imshow('res',difference)\n",
    "cv2.waitKey(0)\n",
    "cv2.destroyAllWindows"
   ]
  },
  {
   "cell_type": "markdown",
   "metadata": {},
   "source": [
    "Question#2"
   ]
  },
  {
   "cell_type": "code",
   "execution_count": 24,
   "metadata": {},
   "outputs": [],
   "source": [
    "gray_scale = cv2.imread(r'C:\\Users\\DELL\\Music\\lines.jpg', cv2.IMREAD_GRAYSCALE)  \n",
    "threshold_value = 128  \n",
    "_, binary_image = cv2.threshold(gray_scale, threshold_value, 255, cv2.THRESH_BINARY)\n",
    "\n",
    "kernel = np.ones((7,3),np.uint8)\n",
    "horizontal_kernel = cv2.getStructuringElement(cv2.MORPH_RECT, (15, 3))  # For horizontal lines\n",
    "vertical_kernel = cv2.getStructuringElement(cv2.MORPH_RECT, (3, 15))   # For vertical lines\n",
    "\n",
    "# Step 4: Apply opening operation\n",
    "\n",
    "horizontal_lines = cv2.morphologyEx(binary_image, cv2.MORPH_OPEN, horizontal_kernel)\n",
    "vertical_lines = cv2.morphologyEx(binary_image, cv2.MORPH_OPEN, vertical_kernel)\n",
    "horizontal_lines_cleaned = cv2.subtract(horizontal_lines, vertical_lines)\n",
    "vertical_lines_cleaned = cv2.subtract(vertical_lines, horizontal_lines)\n",
    "lines_combined = cv2.bitwise_or(horizontal_lines_cleaned, vertical_lines_cleaned)\n",
    "\n",
    "cv2.imshow('res',lines_combined)\n",
    "cv2.waitKey(0)\n",
    "cv2.destroyAllWindows()"
   ]
  },
  {
   "cell_type": "code",
   "execution_count": 23,
   "metadata": {},
   "outputs": [],
   "source": [
    "import cv2\n",
    "import numpy as np\n",
    "\n",
    "# Step 1: Load image\n",
    "gray_scale = cv2.imread(r'C:\\Users\\DELL\\Music\\lines.jpg', cv2.IMREAD_GRAYSCALE)\n",
    "\n",
    "# Step 2: Thresholding\n",
    "_, binary_image = cv2.threshold(gray_scale, 128, 255, cv2.THRESH_BINARY)\n",
    "\n",
    "# Step 3: Define kernels\n",
    "horizontal_kernel = cv2.getStructuringElement(cv2.MORPH_RECT, (50, 3))  # Wider kernel\n",
    "vertical_kernel = cv2.getStructuringElement(cv2.MORPH_RECT, (3, 50))    # Taller kernel\n",
    "\n",
    "# Step 4: Extract horizontal and vertical lines\n",
    "horizontal_lines = cv2.morphologyEx(binary_image, cv2.MORPH_OPEN, horizontal_kernel)\n",
    "vertical_lines = cv2.morphologyEx(binary_image, cv2.MORPH_OPEN, vertical_kernel)\n",
    "\n",
    "# Step 5: Clean overlaps and combine\n",
    "horizontal_lines_cleaned = cv2.subtract(horizontal_lines, vertical_lines)\n",
    "vertical_lines_cleaned = cv2.subtract(vertical_lines, horizontal_lines)\n",
    "lines_combined = cv2.bitwise_or(horizontal_lines_cleaned, vertical_lines_cleaned)\n",
    "\n",
    "# Step 6: Display results\n",
    "cv2.imshow(\"Horizontal Lines\", horizontal_lines)\n",
    "cv2.imshow(\"Vertical Lines\", vertical_lines)\n",
    "cv2.imshow(\"Cleaned Combined Lines\", lines_combined)\n",
    "cv2.waitKey(0)\n",
    "cv2.destroyAllWindows()\n"
   ]
  },
  {
   "cell_type": "markdown",
   "metadata": {},
   "source": [
    "Question#3"
   ]
  },
  {
   "cell_type": "code",
   "execution_count": null,
   "metadata": {},
   "outputs": [
    {
     "name": "stdout",
     "output_type": "stream",
     "text": [
      "Approximate number of lines: 341\n",
      "Approximate number of words: 1506\n"
     ]
    }
   ],
   "source": [
    "import cv2\n",
    "import numpy as np\n",
    "\n",
    "# Step 1: Read and binarize the image\n",
    "gray_scale = cv2.imread(r'C:\\Users\\DELL\\Music\\img.jpg', cv2.IMREAD_GRAYSCALE)\n",
    "\n",
    "# Binarization using thresholding\n",
    "_, binary_image = cv2.threshold(gray_scale, 128, 255, cv2.THRESH_BINARY_INV)\n",
    "\n",
    "# Step 2: Detect lines\n",
    "# Define a horizontal structuring element for lines\n",
    "line_kernel = cv2.getStructuringElement(cv2.MORPH_RECT, (100, 1))  # Adjust width as needed\n",
    "dilated_lines = cv2.dilate(binary_image, line_kernel, iterations=1)\n",
    "\n",
    "# Connected component labeling for lines\n",
    "num_lines, _, _, _ = cv2.connectedComponentsWithStats(dilated_lines)\n",
    "\n",
    "# Step 3: Detect words\n",
    "# Define a smaller horizontal structuring element for words\n",
    "word_kernel = cv2.getStructuringElement(cv2.MORPH_RECT, (20, 1))  # Adjust width as needed\n",
    "dilated_words = cv2.dilate(binary_image, word_kernel, iterations=1)\n",
    "\n",
    "# Connected component labeling for words\n",
    "num_words, _, _, _ = cv2.connectedComponentsWithStats(dilated_words)\n",
    "\n",
    "# Display results\n",
    "print(f\"Approximate number of lines: {num_lines - 1}\") \n",
    "print(f\"Approximate number of words: {num_words - 1}\") \n",
    "\n",
    "cv2.imshow(\"Original Image\", gray_scale )\n",
    "cv2.imshow(\"Binary Image\", binary_image)\n",
    "cv2.imshow(\"Lines\", dilated_lines)\n",
    "cv2.imshow(\"Words\", dilated_words)\n",
    "cv2.waitKey(0)\n",
    "cv2.destroyAllWindows()\n"
   ]
  }
 ],
 "metadata": {
  "kernelspec": {
   "display_name": "Python 3",
   "language": "python",
   "name": "python3"
  },
  "language_info": {
   "codemirror_mode": {
    "name": "ipython",
    "version": 3
   },
   "file_extension": ".py",
   "mimetype": "text/x-python",
   "name": "python",
   "nbconvert_exporter": "python",
   "pygments_lexer": "ipython3",
   "version": "3.13.0"
  }
 },
 "nbformat": 4,
 "nbformat_minor": 2
}
